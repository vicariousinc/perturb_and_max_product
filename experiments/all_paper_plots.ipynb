{
 "cells": [
  {
   "cell_type": "code",
   "execution_count": null,
   "metadata": {},
   "outputs": [],
   "source": [
    "%pylab inline\n",
    "from plot_all import plot_std, plot_images, semilogx_std\n",
    "from pmap.mmd import logMMD"
   ]
  },
  {
   "cell_type": "code",
   "execution_count": null,
   "metadata": {},
   "outputs": [],
   "source": [
    "import os\n",
    "folder = \"../paper/figs\"\n",
    "if not os.path.exists(folder):\n",
    "    os.makedirs(folder, exist_ok=True)\n",
    "\n",
    "# All results have been copied to\n",
    "results_folder = \"../results\""
   ]
  },
  {
   "cell_type": "markdown",
   "metadata": {},
   "source": [
    "# Section 5.3"
   ]
  },
  {
   "cell_type": "code",
   "execution_count": null,
   "metadata": {
    "scrolled": true
   },
   "outputs": [],
   "source": [
    "a = np.load(f\"../data/noisy_mnist.npz\")\n",
    "X_train = a[\"X_train\"]\n",
    "y_train = a[\"y_train\"]\n",
    "S = (X_train[y_train == 0] == 0).astype(np.float32).reshape(-1, X_train.shape[1] * X_train.shape[2])\n",
    "\n",
    "learn_iter = 200\n",
    "n_steps_sweep = np.array([5, 10, 25, 50, 100]) \n",
    "seeds = np.array([40, 41, 42, 43, 44]) \n",
    "logmmd = {}\n",
    "sampling_algs = [\"pmap\",\"gibbs\", \"gwg\", \"gibbs_reset\", \"gwg_reset\"]\n",
    "for sampling_alg in sampling_algs:\n",
    "    logmmd[sampling_alg] = np.zeros((len(seeds), len(n_steps_sweep)))\n",
    "for i, seed in enumerate(seeds):\n",
    "    for j, n_steps in enumerate(n_steps_sweep):\n",
    "        for sampling_alg in sampling_algs:\n",
    "            a = load(f\"{results_folder}/zeros_ising/zeros_ising_samples_{learn_iter}_{sampling_alg}_nsteps_{n_steps}_seed_{seed}.npz\")\n",
    "            logmmdval, W, b, S2 = a[\"logmmd\"], a[\"W\"], a[\"b\"], a[\"S2\"]\n",
    "            logmmd[sampling_alg][i,j] = logmmdval\n",
    "            \n",
    "\n",
    "# Get samples \n",
    "learn_iter, n_steps, seed = 200, 50, 40\n",
    "sampling_alg=\"pmap\"\n",
    "S2pmap = load(f\"{results_folder}/zeros_ising/zeros_ising_samples_{learn_iter}_{sampling_alg}_nsteps_{n_steps}_seed_{seed}.npz\")[\"S2\"]\n",
    "sampling_alg=\"gibbs\"\n",
    "S2gibbs = load(f\"{results_folder}/zeros_ising/zeros_ising_samples_{learn_iter}_{sampling_alg}_nsteps_{n_steps}_seed_{seed}.npz\")[\"S2\"]\n",
    "sampling_alg=\"gibbs_reset\"\n",
    "S2gibbs_reset = load(f\"{results_folder}/zeros_ising/zeros_ising_samples_{learn_iter}_{sampling_alg}_nsteps_{n_steps}_seed_{seed}.npz\")[\"S2\"]\n",
    "sampling_alg=\"gwg\"\n",
    "S2gwg = load(f\"{results_folder}/zeros_ising/zeros_ising_samples_{learn_iter}_{sampling_alg}_nsteps_{n_steps}_seed_{seed}.npz\")[\"S2\"]\n",
    "sampling_alg=\"pmap_lp\"\n",
    "S2pmaplp = load(f\"{results_folder}/zeros_ising/zeros_ising_samples_{learn_iter}_{sampling_alg}_nsteps_{n_steps}_seed_{seed}.npz\")[\"S2\"]\n",
    "\n",
    "\n",
    "splot = vstack((S[8:12],S2pmap[8:12],S2gwg[8:12],S2gibbs_reset[8:12],S2gibbs[8:12],S2pmaplp.round()[8:12]))"
   ]
  },
  {
   "cell_type": "code",
   "execution_count": null,
   "metadata": {},
   "outputs": [],
   "source": [
    "plot_images(splot.reshape(-1,30,30), nr=6)\n",
    "ylabel(\"PMapLP  Gibbs   G-reset   GWG     PMP      Data  \", fontsize=22)\n",
    "gca().yaxis.set_ticks([]) \n",
    "gca().xaxis.set_ticks([])\n",
    "gca().spines['top'].set_visible(False)\n",
    "gca().spines['bottom'].set_visible(False)\n",
    "savefig(\"../paper/figs/zeros_ising.png\", bbox_inches='tight')"
   ]
  },
  {
   "cell_type": "markdown",
   "metadata": {},
   "source": [
    "# Section 5.2"
   ]
  },
  {
   "cell_type": "code",
   "execution_count": null,
   "metadata": {},
   "outputs": [],
   "source": [
    "figure(figsize=(10*4/3,4))\n",
    "\n",
    "a = np.load(f\"{results_folder}/mplp/c2dlattice_mplp.npz\")\n",
    "logZmp, logZmplp, logZexact = a[\"logZmp\"], a[\"logZmplp\"], a[\"logZexact\"]\n",
    "sweep_d = [5, 10, 15]\n",
    "sweep_side = [5, 10, 15]\n",
    "\n",
    "logZmp -= logZexact\n",
    "logZmplp -= logZexact\n",
    "\n",
    "subplot(131)\n",
    "plot_std(sweep_side, logZmp.mean(0), logZmp.std(0)/sqrt(logZmp.shape[0]))\n",
    "plot_std(sweep_side, logZmplp.mean(0), logZmplp.std(0)/sqrt(logZmplp.shape[0]),'orange')\n",
    "plot(sweep_side,logZmplp.mean(0),\":\")\n",
    "xlabel(\"Side of cyclic lattice\",fontsize=15)\n",
    "ylabel(\"$\\log(Z_{approx}) - \\log(Z_{exact})$\",fontsize=16)\n",
    "legend([\"PMP\",\"MPLP (500x slower)\"],fontsize=14)\n",
    "title(\"Log-partition on cyc. 2D lattice\",fontsize=14)\n",
    "# savefig(\"../paper/figs/fig_mplp_zeros.pdf\",bbox_inches='tight')\n",
    "\n",
    "a = np.load(f\"{results_folder}/mplp/ising_mplp.npz\")\n",
    "logZmp, logZmplp, logZexact = a[\"logZmp\"], a[\"logZmplp\"], a[\"logZexact\"]\n",
    "\n",
    "logZmp -= logZexact\n",
    "logZmplp -= logZexact\n",
    "\n",
    "subplot(132)\n",
    "plot_std(sweep_d, logZmp.mean(0), logZmp.std(0)/sqrt(logZmp.shape[0]))\n",
    "plot_std(sweep_d, logZmplp.mean(0), logZmplp.std(0)/sqrt(logZmplp.shape[0]),'orange')\n",
    "xlabel(\"Dimensions of Ising model\",fontsize=15)\n",
    "legend([\"PMP\",\"MPLP (500x slower)\"],fontsize=14)\n",
    "title(\"Log-partition on Ising model\",fontsize=14)\n",
    "\n",
    "subplot(133)\n",
    "colors=[\"blue\",\"orange\",\"green\",\"purple\",\"black\", \"red\"]\n",
    "for sampling_alg, color in zip(sampling_algs, colors):\n",
    "    plot_std(n_steps_sweep, logmmd[sampling_alg].mean(0), logmmd[sampling_alg].std(0)/sqrt(len(seeds)),color)\n",
    "legend([\"PMP\", \"Gibbs (10x slower)\", \"GWG (30x slower)\", \n",
    "        \"Gibbs-reset (10x slower)\", \"GWG-reset (30x slower)\", \"PMapLP (1400x slower)\"],fontsize=11,loc=(0.25,0.51))\n",
    "xlabel(\"# Full sweeps (sampling steps)\",fontsize=15)\n",
    "ylabel(\"$\\log(MMD^2)$\",fontsize=16)\n",
    "title(\"Ising model trained on 'zeros'\",fontsize=14)\n",
    "plt.tight_layout()\n",
    "savefig(\"../paper/figs/mplp_zeros_ising.pdf\",bbox_inches='tight')"
   ]
  },
  {
   "cell_type": "markdown",
   "metadata": {},
   "source": [
    "# Section 5.4"
   ]
  },
  {
   "cell_type": "code",
   "execution_count": null,
   "metadata": {},
   "outputs": [],
   "source": [
    "learn_iter = 1000\n",
    "theta, side = -0.1, 25\n",
    "n_steps_sweep = np.array([5, 10, 25, 50, 100]) \n",
    "seeds = np.array([40, 41, 42, 43, 44]) \n",
    "logRMSE = {}\n",
    "logmmd = {}\n",
    "sampling_algs = [\"pmap\",\"gibbs\", \"gwg\"]\n",
    "for sampling_alg in sampling_algs:\n",
    "    logRMSE[sampling_alg] = np.zeros((len(seeds), len(n_steps_sweep)))\n",
    "    logmmd[sampling_alg] = np.zeros((len(seeds), len(n_steps_sweep)))\n",
    "for i, seed in enumerate(seeds):\n",
    "    for j, n_steps in enumerate(n_steps_sweep):\n",
    "        for sampling_alg in sampling_algs:\n",
    "            a = load(f\"{results_folder}/c2d_lattice/c2dlat_slow_li_{learn_iter}_{sampling_alg}_theta_{theta}_side_{side}_nsteps_{n_steps}_seed_{seed}.npz\")\n",
    "            logmmdval, logrmse, Wgt, bgt, W, b, S2 = a[\"logmmd\"],a[\"logrmse\"], a[\"Wgt\"], a[\"bgt\"], a[\"W\"], a[\"b\"], a[\"S2\"]\n",
    "            logRMSE[sampling_alg][i,j] = logrmse\n",
    "            logmmd[sampling_alg][i,j] = logmmdval\n",
    "logRMSE1,logmmd1 = logRMSE, logmmd\n",
    "            \n",
    "            \n",
    "learn_iter = 100000\n",
    "theta, side = -0.1, 25\n",
    "n_steps_sweep = np.array([5, 10, 25, 50, 100]) \n",
    "seeds = np.array([40, 41, 42, 43, 44]) \n",
    "logRMSE = {}\n",
    "logmmd = {}\n",
    "sampling_algs = [\"pmap\",\"gibbs\", \"gwg\"]\n",
    "for sampling_alg in sampling_algs:\n",
    "    logRMSE[sampling_alg] = np.zeros((len(seeds), len(n_steps_sweep)))\n",
    "    logmmd[sampling_alg] = np.zeros((len(seeds), len(n_steps_sweep)))\n",
    "for i, seed in enumerate(seeds):\n",
    "    for j, n_steps in enumerate(n_steps_sweep):\n",
    "        for sampling_alg in sampling_algs:\n",
    "            a = load(f\"{results_folder}/c2d_lattice/c2dlat_li_{learn_iter}_{sampling_alg}_theta_{theta}_side_{side}_nsteps_{n_steps}_seed_{seed}.npz\")\n",
    "            logmmdval, logrmse, Wgt, bgt, W, b, S2 = a[\"logmmd\"],a[\"logrmse\"], a[\"Wgt\"], a[\"bgt\"], a[\"W\"], a[\"b\"], a[\"S2\"]\n",
    "            logRMSE[sampling_alg][i,j] = logrmse\n",
    "            logmmd[sampling_alg][i,j] = logmmdval\n",
    "        \n",
    "logRMSE2,logmmd2 = logRMSE, logmmd\n",
    "\n",
    "learn_iter = 100000\n",
    "n_steps_sweep = np.array([5, 10, 25, 50, 100]) \n",
    "seeds = np.array([40, 41, 42, 43, 44]) \n",
    "logRMSE = {}\n",
    "logmmd = {}\n",
    "sampling_algs = [\"pmap\",\"gibbs\", \"gwg\"]\n",
    "for sampling_alg in sampling_algs:\n",
    "    logRMSE[sampling_alg] = np.zeros((len(seeds), len(n_steps_sweep)))\n",
    "    logmmd[sampling_alg] = np.zeros((len(seeds), len(n_steps_sweep)))\n",
    "for i, seed in enumerate(seeds):\n",
    "    for j, n_steps in enumerate(n_steps_sweep):\n",
    "        for sampling_alg in sampling_algs:\n",
    "            a = load(f\"{results_folder}/erdos/erdos_li_{learn_iter}_{sampling_alg}_nsteps_{n_steps}_seed_{seed}.npz\")\n",
    "            logmmdval, logrmse, Wgt, bgt, W, b, S2 = a[\"logmmd\"],a[\"logrmse\"], a[\"Wgt\"], a[\"bgt\"], a[\"W\"], a[\"b\"], a[\"S2\"]\n",
    "            logRMSE[sampling_alg][i,j] = logrmse\n",
    "            logmmd[sampling_alg][i,j] = logmmdval\n",
    "        \n",
    "logRMSE3,logmmd3 = logRMSE, logmmd"
   ]
  },
  {
   "cell_type": "code",
   "execution_count": null,
   "metadata": {},
   "outputs": [],
   "source": [
    "figure(figsize=(10*4/3,4))\n",
    "subplot(131)\n",
    "colors=[\"blue\",\"orange\",\"green\"]\n",
    "for sampling_alg, color in zip(sampling_algs, colors):\n",
    "    plot_std(n_steps_sweep, logmmd1[sampling_alg].mean(0),logmmd1[sampling_alg].std(0)/sqrt(len(seeds)),color)\n",
    "legend([\"PMP\",\"Gibbs-reset (150x)\", \"GWG-reset (800x)\"],fontsize=12)\n",
    "ylabel(\"$\\log(RMSE)$\",fontsize=16)\n",
    "xlabel(\"Learning and sampling, # full sweeps\",fontsize=15)\n",
    "ylim([-8.25,-7.5])\n",
    "title(\"Cyc. 2D lattice\",fontsize=14)\n",
    "      \n",
    "subplot(132)\n",
    "colors=[\"blue\",\"orange\",\"green\"]\n",
    "for sampling_alg, color in zip(sampling_algs, colors):\n",
    "    plot_std(n_steps_sweep, logmmd2[sampling_alg].mean(0), logmmd2[sampling_alg].std(0)/sqrt(len(seeds)),color)\n",
    "legend([\"PMP\",\"Gibbs\", \"GWG\"],fontsize=12)\n",
    "xlabel(\"Learning, # MCMC steps or equiv\",fontsize=15)\n",
    "title(\"Cyc. 2D lattice\",fontsize=14)\n",
    "    \n",
    "subplot(133)\n",
    "colors=[\"blue\",\"orange\",\"green\"]\n",
    "for sampling_alg, color in zip(sampling_algs, colors):\n",
    "    plot_std(n_steps_sweep, logmmd3[sampling_alg].mean(0), logmmd3[sampling_alg].std(0)/sqrt(len(seeds)),color)\n",
    "legend([\"PMP\",\"Gibbs\", \"GWG\"],fontsize=12)\n",
    "xlabel(\"Learning, # MCMC steps or equiv\",fontsize=15)\n",
    "title(\"Erdos-Renyi model\",fontsize=14)\n",
    "plt.tight_layout()\n",
    "savefig(\"../paper/figs/erdoslatt_mmd.pdf\", bbox_inches='tight')"
   ]
  },
  {
   "cell_type": "code",
   "execution_count": null,
   "metadata": {},
   "outputs": [],
   "source": [
    "figure(figsize=(10*4/3,4))\n",
    "subplot(131)\n",
    "colors=[\"blue\",\"orange\",\"green\"]\n",
    "for sampling_alg, color in zip(sampling_algs, colors):\n",
    "    plot_std(n_steps_sweep, logRMSE1[sampling_alg].mean(0),logRMSE1[sampling_alg].std(0)/sqrt(len(seeds)),color)\n",
    "plot(n_steps_sweep, logRMSE1[\"gibbs\"].mean(0),\":\",color='orange')\n",
    "legend([\"PMP\",\"Gibbs-reset (150x)\", \"GWG-reset (800x)\"],fontsize=12)\n",
    "ylabel(\"$\\log(MMD^2)$\",fontsize=16)\n",
    "xlabel(\"Learning and sampling, # full sweeps\",fontsize=15)\n",
    "title(\"Cyc. 2D lattice\",fontsize=14)\n",
    "      \n",
    "subplot(132)\n",
    "colors=[\"blue\",\"orange\",\"green\"]\n",
    "for sampling_alg, color in zip(sampling_algs, colors):\n",
    "    plot_std(n_steps_sweep, logRMSE2[sampling_alg].mean(0),logRMSE2[sampling_alg].std(0)/sqrt(len(seeds)),color)\n",
    "legend([\"PMP\",\"Gibbs\", \"GWG\"],fontsize=12)\n",
    "xlabel(\"Learning, # MCMC steps or equiv\",fontsize=15)\n",
    "title(\"Cyc. 2D lattice\",fontsize=14)\n",
    "\n",
    "subplot(133)\n",
    "colors=[\"blue\",\"orange\",\"green\"]\n",
    "for sampling_alg, color in zip(sampling_algs, colors):\n",
    "    plot_std(n_steps_sweep, logRMSE3[sampling_alg].mean(0),logRMSE3[sampling_alg].std(0)/sqrt(len(seeds)),color)\n",
    "legend([\"PMP\",\"Gibbs\", \"GWG\"],fontsize=12)\n",
    "xlabel(\"Learning, # MCMC steps or equiv\",fontsize=15) \n",
    "title(\"Erdos-Renyi model\",fontsize=14)\n",
    "plt.tight_layout()\n",
    "savefig(\"../paper/figs/erdoslatt_rmse.pdf\", bbox_inches='tight')"
   ]
  },
  {
   "cell_type": "markdown",
   "metadata": {},
   "source": [
    "# Section 5.5"
   ]
  },
  {
   "cell_type": "code",
   "execution_count": null,
   "metadata": {},
   "outputs": [],
   "source": [
    "learn_iter = 120000  # with 100 MCMC steps in learning and 0.01 learning rate (200 epochs) (just pmap)\n",
    "n_steps_sweep = np.array([5, 10, 25, 50, 100, 200, 500, 1000, 2000])\n",
    "seeds = np.array([40, 41, 42, 43, 44]) \n",
    "logmmd = {}\n",
    "sampling_algs = [\"pmap\", \"gibbs\", \"gibbs_reset\", \"gibbs1\"]\n",
    "for sampling_alg in sampling_algs:\n",
    "    logmmd[sampling_alg] = np.zeros((len(seeds), len(n_steps_sweep)))\n",
    "for i, seed in enumerate(seeds):\n",
    "    for j, n_steps in enumerate(n_steps_sweep):\n",
    "        for sampling_alg in sampling_algs:\n",
    "            a = load(f\"{results_folder}/rbm_mnist/rbm_mnist_noadam_samples_{learn_iter}_{sampling_alg}_nsteps_{n_steps}_seed_{seed}.npz\")\n",
    "            logmmdval, S2 = a[\"logmmd\"], a[\"S2\"]\n",
    "            logmmd[sampling_alg][i,j] = logmmdval"
   ]
  },
  {
   "cell_type": "code",
   "execution_count": null,
   "metadata": {},
   "outputs": [],
   "source": [
    "colors=[\"blue\",\"orange\",\"green\",\"purple\",\"black\"]\n",
    "for sampling_alg, color in zip(sampling_algs, colors):\n",
    "    semilogx_std(n_steps_sweep, logmmd[sampling_alg].mean(0), logmmd[sampling_alg].std(0)/sqrt(len(seeds)),color)\n",
    "legend([\"PMP\", \"PCD-100 (3x faster)\", \"Gibbs-reset (3x faster)\", \"PCD-1 (300x faster)\"],fontsize=11,loc=(0.55,0.15))\n",
    "xlabel(\"# Full sweeps (sampling steps)\",fontsize=15)\n",
    "ylabel(\"$\\log(MMD^2)$\",fontsize=16)\n",
    "savefig(\"../paper/figs/rbm_graph.pdf\", bbox_inches='tight')"
   ]
  },
  {
   "cell_type": "code",
   "execution_count": null,
   "metadata": {},
   "outputs": [],
   "source": [
    "seed=40\n",
    "n_steps = 100\n",
    "\n",
    "sampling_alg=\"pmap\"\n",
    "a = np.load(f\"{results_folder}/rbm_mnist/rbm_mnist_noadam_samples_{learn_iter}_{sampling_alg}_nsteps_{n_steps}_seed_{seed}.npz\")\n",
    "S2_pmap  =a[\"S2\"]\n",
    "sampling_alg=\"gibbs_reset\"\n",
    "a = np.load(f\"{results_folder}/rbm_mnist/rbm_mnist_noadam_samples_{learn_iter}_{sampling_alg}_nsteps_{n_steps}_seed_{seed}.npz\")\n",
    "S2_gibbs_reset=  a[\"S2\"]\n",
    "sampling_alg=\"gibbs\"\n",
    "a = np.load(f\"{results_folder}/rbm_mnist/rbm_mnist_noadam_samples_{learn_iter}_{sampling_alg}_nsteps_{n_steps}_seed_{seed}.npz\")\n",
    "S2_gibbs = a[\"S2\"]\n",
    "sampling_alg=\"gibbs1\"\n",
    "a = np.load(f\"{results_folder}/rbm_mnist/rbm_mnist_noadam_samples_{learn_iter}_{sampling_alg}_nsteps_{n_steps}_seed_{seed}.npz\")\n",
    "S2_gibbs1 = a[\"S2\"]\n",
    "\n",
    "N=10\n",
    "a = np.load(\"../data/mnist_digits_and_labels.npz\")\n",
    "S = (a[\"X_train\"].reshape(-1, 28 ** 2)>0.5).astype(np.float32)\n",
    "splot = vstack((S[:N],S2_pmap[:N],S2_gibbs_reset[:N],S2_gibbs[:N],S2_gibbs1[:N]))\n"
   ]
  },
  {
   "cell_type": "code",
   "execution_count": null,
   "metadata": {},
   "outputs": [],
   "source": [
    "plot_images(splot.reshape(-1,28,28), nr=5)\n",
    "ylabel(\"PCD1 PCD100 G-reset PMP    Data\",fontsize=16)\n",
    "gca().yaxis.set_ticks([]) \n",
    "gca().xaxis.set_ticks([]) \n",
    "savefig(\"../paper/figs/rbm_samples.png\", bbox_inches='tight')"
   ]
  },
  {
   "cell_type": "markdown",
   "metadata": {},
   "source": [
    "# Section 5.5 - 2s only"
   ]
  },
  {
   "cell_type": "code",
   "execution_count": null,
   "metadata": {},
   "outputs": [],
   "source": [
    "learn_iter = 1000  # with 100 MCMC steps in learning and 0.01 learning rate (200 epochs) (just pmap)\n",
    "n_steps_sweep = np.array([100])\n",
    "seeds = np.array([40, 41, 42, 43, 44]) \n",
    "logmmd = {}\n",
    "sampling_algs = [\"pmap\", \"gibbs\", \"gibbs_reset\", \"gibbs1\", \"pmap_lp\"]\n",
    "for sampling_alg in sampling_algs:\n",
    "    logmmd[sampling_alg] = np.zeros((len(seeds), len(n_steps_sweep)))\n",
    "for i, seed in enumerate(seeds):\n",
    "    for j, n_steps in enumerate(n_steps_sweep):\n",
    "        for sampling_alg in sampling_algs:\n",
    "            a = load(f\"{results_folder}/rbm_mnist/rbm_2s_adam_samples_{learn_iter}_{sampling_alg}_nsteps_{n_steps}_seed_{seed}.npz\")\n",
    "            logmmdval, S2 = a[\"logmmd\"], a[\"S2\"]\n",
    "            logmmd[sampling_alg][i,j] = logmmdval\n",
    "\n",
    "for sampling_alg in sampling_algs:\n",
    "    print(sampling_alg, logmmd[sampling_alg].mean(0), logmmd[sampling_alg].std(0)/sqrt(len(seeds)))"
   ]
  },
  {
   "cell_type": "code",
   "execution_count": null,
   "metadata": {},
   "outputs": [],
   "source": [
    "seed=40\n",
    "n_steps = 100\n",
    "\n",
    "sampling_alg=\"pmap\"\n",
    "a = np.load(f\"{results_folder}/rbm_mnist/rbm_2s_adam_samples_{learn_iter}_{sampling_alg}_nsteps_{n_steps}_seed_{seed}.npz\")\n",
    "S2_pmap  =a[\"S2\"]\n",
    "sampling_alg=\"gibbs_reset\"\n",
    "a = np.load(f\"{results_folder}/rbm_mnist/rbm_2s_adam_samples_{learn_iter}_{sampling_alg}_nsteps_{n_steps}_seed_{seed}.npz\")\n",
    "S2_gibbs_reset=  a[\"S2\"]\n",
    "sampling_alg=\"gibbs\"\n",
    "a = np.load(f\"{results_folder}/rbm_mnist/rbm_2s_adam_samples_{learn_iter}_{sampling_alg}_nsteps_{n_steps}_seed_{seed}.npz\")\n",
    "S2_gibbs = a[\"S2\"]\n",
    "sampling_alg=\"gibbs1\"\n",
    "a = np.load(f\"{results_folder}/rbm_mnist/rbm_2s_adam_samples_{learn_iter}_{sampling_alg}_nsteps_{n_steps}_seed_{seed}.npz\")\n",
    "S2_gibbs1 = a[\"S2\"]\n",
    "sampling_alg=\"pmap_lp\"\n",
    "a = np.load(f\"{results_folder}/rbm_mnist/rbm_2s_adam_samples_{learn_iter}_{sampling_alg}_nsteps_{n_steps}_seed_{seed}.npz\")\n",
    "S2_pmaplp = a[\"S2\"]\n",
    "\n",
    "N=10\n",
    "a = np.load(\"../data/mnist_digits_and_labels.npz\")\n",
    "S = (a[\"X_train\"][a[\"y_train\"] == 2].reshape(-1, 28 ** 2)>0.5).astype(np.float32)\n",
    "splot = vstack((S[:N],S2_pmap[:N],S2_gibbs_reset[:N],S2_gibbs[:N],S2_gibbs1[:N],S2_pmaplp[:N]))\n"
   ]
  },
  {
   "cell_type": "code",
   "execution_count": null,
   "metadata": {},
   "outputs": [],
   "source": [
    "plot_images(splot.reshape(-1,28,28), nr=6)\n",
    "ylabel(\"PmapLP  PCD1   PCD100  G-reset  PMP    Data \",fontsize=14)\n",
    "gca().yaxis.set_ticks([]) \n",
    "gca().xaxis.set_ticks([]) \n",
    "savefig(\"../paper/figs/rbm_2s.png\", bbox_inches='tight')"
   ]
  },
  {
   "cell_type": "markdown",
   "metadata": {},
   "source": [
    "# Section 5.6"
   ]
  },
  {
   "cell_type": "code",
   "execution_count": null,
   "metadata": {},
   "outputs": [],
   "source": [
    "W = np.array([np.load(f\"{results_folder}/convor/convor_solution_seed_{seed}.npz\")[\"W\"][0] for seed in [40,41,42,43,44]])\n",
    "splot = W.reshape(-1,6,6)\n",
    "big_image1 = plot_images(np.heaviside(splot,0.5),nr=5, display=False)\n",
    "big_image1[:,::6+1] = [0.502,0,0.502]\n",
    "big_image1 = np.pad(big_image1,((1,0),(5,5),(0,0)),constant_values=1)\n",
    "\n",
    "X = np.load(\"../data/conv_problem.npz\")['X']\n",
    "big_image = plot_images(X[:3,0], nr=1, display=False)\n",
    "big_image[:,::14+1] = [0.502,0,0.502]\n",
    "\n",
    "plt.figure(figsize=(10, 10))\n",
    "plt.imshow(np.vstack((big_image,big_image1)), interpolation=\"none\")\n",
    "gca().axis(\"off\")\n",
    "savefig(\"../paper/figs/convor.png\", bbox_inches='tight')"
   ]
  },
  {
   "cell_type": "code",
   "execution_count": null,
   "metadata": {},
   "outputs": [],
   "source": [
    "X = np.load(\"../data/conv_problem.npz\")['X']\n",
    "big_image = plot_images(X[:9,0], display=False)\n",
    "big_image[:,::14+1] = [0.502,0,0.502]\n",
    "\n",
    "plt.figure(figsize=(10, 10))\n",
    "plt.imshow(big_image, interpolation=\"none\")\n",
    "gca().axis(\"off\")\n",
    "savefig(\"../paper/figs/convor_1.png\", bbox_inches='tight')"
   ]
  },
  {
   "cell_type": "code",
   "execution_count": null,
   "metadata": {},
   "outputs": [],
   "source": [
    "W = np.array([np.load(f\"{results_folder}/convor/convor_solution_seed_{seed}.npz\")[\"W\"][0] for seed in [40,41,42,43,44]])\n",
    "splot = W.reshape(-1,6,6)\n",
    "big_image1 = plot_images(np.heaviside(splot,0.5),nr=5)\n",
    "gca().axis(\"off\")\n",
    "savefig(\"../paper/figs/convor_2.png\", bbox_inches='tight')"
   ]
  }
 ],
 "metadata": {
  "kernelspec": {
   "display_name": "Python 3",
   "language": "python",
   "name": "python3"
  },
  "language_info": {
   "codemirror_mode": {
    "name": "ipython",
    "version": 3
   },
   "file_extension": ".py",
   "mimetype": "text/x-python",
   "name": "python",
   "nbconvert_exporter": "python",
   "pygments_lexer": "ipython3",
   "version": "3.6.8"
  }
 },
 "nbformat": 4,
 "nbformat_minor": 5
}
